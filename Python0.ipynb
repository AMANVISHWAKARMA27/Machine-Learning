{
  "nbformat": 4,
  "nbformat_minor": 0,
  "metadata": {
    "colab": {
      "provenance": [],
      "authorship_tag": "ABX9TyNhjfgy80+YOUp8W1RaljJd",
      "include_colab_link": true
    },
    "kernelspec": {
      "name": "python3",
      "display_name": "Python 3"
    },
    "language_info": {
      "name": "python"
    }
  },
  "cells": [
    {
      "cell_type": "markdown",
      "metadata": {
        "id": "view-in-github",
        "colab_type": "text"
      },
      "source": [
        "<a href=\"https://colab.research.google.com/github/AMANVISHWAKARMA27/Machine-Learning/blob/main/Python0.ipynb\" target=\"_parent\"><img src=\"https://colab.research.google.com/assets/colab-badge.svg\" alt=\"Open In Colab\"/></a>"
      ]
    },
    {
      "cell_type": "markdown",
      "source": [
        "String formatting in python."
      ],
      "metadata": {
        "id": "PYM69i9HTbEM"
      }
    },
    {
      "cell_type": "code",
      "source": [
        "print(\"hello world.\")"
      ],
      "metadata": {
        "id": "r4ldg1zDdJOz",
        "colab": {
          "base_uri": "https://localhost:8080/"
        },
        "outputId": "599a4184-cf30-4d9f-b454-7c26ddc40b7e"
      },
      "execution_count": null,
      "outputs": [
        {
          "output_type": "stream",
          "name": "stdout",
          "text": [
            "hello world.\n"
          ]
        }
      ]
    },
    {
      "cell_type": "code",
      "source": [
        "def greeting(name):\n",
        "  return \"Hello {}, welcome to the community!\".format(name)"
      ],
      "metadata": {
        "id": "1FfWKA2kTsO4"
      },
      "execution_count": null,
      "outputs": []
    },
    {
      "cell_type": "code",
      "source": [
        "greeting(\"Aman\")"
      ],
      "metadata": {
        "colab": {
          "base_uri": "https://localhost:8080/",
          "height": 36
        },
        "id": "mq4qb_y3T8Ob",
        "outputId": "930791a0-6575-444e-8d4b-ea90641bfb2f"
      },
      "execution_count": null,
      "outputs": [
        {
          "output_type": "execute_result",
          "data": {
            "text/plain": [
              "'Hello Aman, welcome to the community!'"
            ],
            "application/vnd.google.colaboratory.intrinsic+json": {
              "type": "string"
            }
          },
          "metadata": {},
          "execution_count": 3
        }
      ]
    },
    {
      "cell_type": "code",
      "source": [
        "def welcome(name, age):\n",
        "  return \"Hello {}. Your name is {}.\".format(name, age)"
      ],
      "metadata": {
        "id": "pp_AhAMSUTIC"
      },
      "execution_count": null,
      "outputs": []
    },
    {
      "cell_type": "code",
      "source": [
        "welcome(\"Aman\", 19)"
      ],
      "metadata": {
        "colab": {
          "base_uri": "https://localhost:8080/",
          "height": 36
        },
        "id": "4_pIffSAUaEh",
        "outputId": "e9f3883d-45eb-4960-9179-44e66eab278c"
      },
      "execution_count": null,
      "outputs": [
        {
          "output_type": "execute_result",
          "data": {
            "text/plain": [
              "'Hello Aman. Your name is 19.'"
            ],
            "application/vnd.google.colaboratory.intrinsic+json": {
              "type": "string"
            }
          },
          "metadata": {},
          "execution_count": 6
        }
      ]
    },
    {
      "cell_type": "code",
      "source": [
        "def welcome(name, age):\n",
        "  return \"Hello {}. Your name is {}.\".format(age, name)"
      ],
      "metadata": {
        "id": "AMcBghPxVE0l"
      },
      "execution_count": null,
      "outputs": []
    },
    {
      "cell_type": "code",
      "source": [
        "welcome(\"Aman\", 19)"
      ],
      "metadata": {
        "colab": {
          "base_uri": "https://localhost:8080/",
          "height": 36
        },
        "id": "ExjyQzbwVJi-",
        "outputId": "5df0bfa7-35a7-4039-87ed-d4bbfc2c3250"
      },
      "execution_count": null,
      "outputs": [
        {
          "output_type": "execute_result",
          "data": {
            "text/plain": [
              "'Hello 19. Your name is Aman.'"
            ],
            "application/vnd.google.colaboratory.intrinsic+json": {
              "type": "string"
            }
          },
          "metadata": {},
          "execution_count": 10
        }
      ]
    },
    {
      "cell_type": "code",
      "source": [
        "def welcome(name, age):\n",
        "  return \"Hello {name}. Your name is {age}.\".format(age=age, name=name)"
      ],
      "metadata": {
        "id": "kwE9fuE0VZGg"
      },
      "execution_count": null,
      "outputs": []
    },
    {
      "cell_type": "code",
      "source": [
        "welcome(\"Aman\", 19)"
      ],
      "metadata": {
        "colab": {
          "base_uri": "https://localhost:8080/",
          "height": 36
        },
        "id": "tMH83SBgVf9t",
        "outputId": "c46bdd70-7f14-46c9-c74c-91a5a3a88f41"
      },
      "execution_count": null,
      "outputs": [
        {
          "output_type": "execute_result",
          "data": {
            "text/plain": [
              "'Hello Aman. Your name is 19.'"
            ],
            "application/vnd.google.colaboratory.intrinsic+json": {
              "type": "string"
            }
          },
          "metadata": {},
          "execution_count": 12
        }
      ]
    },
    {
      "cell_type": "markdown",
      "source": [
        "Iterables and Iterator"
      ],
      "metadata": {
        "id": "0XNm6Rz5WJyw"
      }
    },
    {
      "cell_type": "code",
      "source": [
        "#List is iterable\n",
        "lst = [1,2,3,4,5]\n",
        "for i in lst:\n",
        "  print(i)"
      ],
      "metadata": {
        "colab": {
          "base_uri": "https://localhost:8080/"
        },
        "id": "i8S2E4tUWMtE",
        "outputId": "df08625a-3c05-4d8d-931d-00590aee6903"
      },
      "execution_count": null,
      "outputs": [
        {
          "output_type": "stream",
          "name": "stdout",
          "text": [
            "1\n",
            "2\n",
            "3\n",
            "4\n",
            "5\n"
          ]
        }
      ]
    },
    {
      "cell_type": "code",
      "source": [
        "lst1 = iter(lst)\n",
        "lst1\n",
        "\n",
        "#Whatever element is stored in the list will not be initialised at once by the\n",
        "#use of iterator. We have to initialse every element one by one by the use of\n",
        "#next() function."
      ],
      "metadata": {
        "colab": {
          "base_uri": "https://localhost:8080/"
        },
        "id": "vIz4XBnYWeXK",
        "outputId": "cbdefc57-cf14-470f-8b3c-ee6b77306c68"
      },
      "execution_count": null,
      "outputs": [
        {
          "output_type": "execute_result",
          "data": {
            "text/plain": [
              "<list_iterator at 0x797505372200>"
            ]
          },
          "metadata": {},
          "execution_count": 23
        }
      ]
    },
    {
      "cell_type": "code",
      "source": [
        "next(lst1)\n",
        "#At every run, it will print the an elements in the list one by one\n",
        "#first run = 1, second run = 2, third run = 3 and so on untill the list has elements."
      ],
      "metadata": {
        "colab": {
          "base_uri": "https://localhost:8080/"
        },
        "id": "5YMnUTbCXMTY",
        "outputId": "8f445f86-2bf5-4d49-9e1f-2440962ea5d2"
      },
      "execution_count": null,
      "outputs": [
        {
          "output_type": "execute_result",
          "data": {
            "text/plain": [
              "1"
            ]
          },
          "metadata": {},
          "execution_count": 24
        }
      ]
    },
    {
      "cell_type": "markdown",
      "source": [
        "OBJECT ORIENTED PROGRAMMING"
      ],
      "metadata": {
        "id": "6nL6L5G3bAJW"
      }
    },
    {
      "cell_type": "code",
      "source": [
        "class car:\n",
        "  def __init__(self, windows, door, enginetype):\n",
        "    self.windows = windows\n",
        "    self.door = door\n",
        "    self.enginetype = enginetype"
      ],
      "metadata": {
        "id": "98T703qdbRXa"
      },
      "execution_count": null,
      "outputs": []
    },
    {
      "cell_type": "code",
      "source": [
        "car1 = car(4,5,\"petrol\")"
      ],
      "metadata": {
        "id": "CW1lrPi_bh00"
      },
      "execution_count": null,
      "outputs": []
    },
    {
      "cell_type": "code",
      "source": [
        "print(car1.windows)"
      ],
      "metadata": {
        "colab": {
          "base_uri": "https://localhost:8080/"
        },
        "id": "GEDGRlOadlrj",
        "outputId": "25a9303b-6024-4d2a-9cd0-0d50015ed432"
      },
      "execution_count": null,
      "outputs": [
        {
          "output_type": "stream",
          "name": "stdout",
          "text": [
            "4\n"
          ]
        }
      ]
    },
    {
      "cell_type": "markdown",
      "source": [
        "PYTHON EXCEPTION HANDELING"
      ],
      "metadata": {
        "id": "9EY0rdYxe6Bg"
      }
    },
    {
      "cell_type": "code",
      "source": [],
      "metadata": {
        "id": "HMmMJs7-dosn"
      },
      "execution_count": null,
      "outputs": []
    }
  ]
}