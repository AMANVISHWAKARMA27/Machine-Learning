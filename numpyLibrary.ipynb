{
  "nbformat": 4,
  "nbformat_minor": 0,
  "metadata": {
    "colab": {
      "provenance": [],
      "authorship_tag": "ABX9TyOoaRxsgFMjAqvvXfdRdNHY",
      "include_colab_link": true
    },
    "kernelspec": {
      "name": "python3",
      "display_name": "Python 3"
    },
    "language_info": {
      "name": "python"
    }
  },
  "cells": [
    {
      "cell_type": "markdown",
      "metadata": {
        "id": "view-in-github",
        "colab_type": "text"
      },
      "source": [
        "<a href=\"https://colab.research.google.com/github/AMANVISHWAKARMA27/Machine-Learning/blob/main/numpyLibrary.ipynb\" target=\"_parent\"><img src=\"https://colab.research.google.com/assets/colab-badge.svg\" alt=\"Open In Colab\"/></a>"
      ]
    },
    {
      "cell_type": "code",
      "source": [
        "import numpy as np\n",
        "myList = [1,2,3]\n",
        "arr = np.array(myList) #array of rank 1\n",
        "arr"
      ],
      "metadata": {
        "colab": {
          "base_uri": "https://localhost:8080/"
        },
        "id": "FFFlE3iiEs-y",
        "outputId": "238f54da-2ae2-4030-f748-43c8f61eeb2e"
      },
      "execution_count": null,
      "outputs": [
        {
          "output_type": "execute_result",
          "data": {
            "text/plain": [
              "array([[1, 2, 3],\n",
              "       [4, 5, 6],\n",
              "       [7, 8, 9]])"
            ]
          },
          "metadata": {},
          "execution_count": 14
        }
      ]
    },
    {
      "cell_type": "code",
      "source": [
        "myList1 = [1,2,3]\n",
        "myList2 = [4,5,6]\n",
        "myList3 = [7,8,9]\n",
        "a = np.array([myList1,myList2,myList3]) #array of rank 2\n",
        "a"
      ],
      "metadata": {
        "colab": {
          "base_uri": "https://localhost:8080/"
        },
        "id": "7jx5w1MphoJM",
        "outputId": "a8f08cc7-f84f-442f-bab8-58115a801150"
      },
      "execution_count": null,
      "outputs": [
        {
          "output_type": "execute_result",
          "data": {
            "text/plain": [
              "array([[1, 2, 3],\n",
              "       [4, 5, 6],\n",
              "       [7, 8, 9]])"
            ]
          },
          "metadata": {},
          "execution_count": 15
        }
      ]
    },
    {
      "cell_type": "code",
      "source": [
        "#another way of reating an array\n",
        "b = np.array([[1,2,3,4], [5,6,7,8], [-1,-5,-7,-9],[3,-5,-4,-1]])\n",
        "b"
      ],
      "metadata": {
        "colab": {
          "base_uri": "https://localhost:8080/"
        },
        "id": "Jh8ntVYuhwgn",
        "outputId": "7dd993f8-57c3-4c9e-a942-4396bf6a2bbb"
      },
      "execution_count": null,
      "outputs": [
        {
          "output_type": "execute_result",
          "data": {
            "text/plain": [
              "array([[ 1,  2,  3,  4],\n",
              "       [ 5,  6,  7,  8],\n",
              "       [-1, -5, -7, -9],\n",
              "       [ 3, -5, -4, -1]])"
            ]
          },
          "metadata": {},
          "execution_count": 17
        }
      ]
    },
    {
      "cell_type": "markdown",
      "source": [
        "Accessing the elements of an array using\n",
        "Indices"
      ],
      "metadata": {
        "id": "kGLu_iAsi2oB"
      }
    },
    {
      "cell_type": "code",
      "source": [
        "b[0:2, 0:3]"
      ],
      "metadata": {
        "colab": {
          "base_uri": "https://localhost:8080/"
        },
        "id": "9br-Mg85i9sd",
        "outputId": "0be5a2f4-47ef-4f43-cbcf-6afcc6acd5f3"
      },
      "execution_count": null,
      "outputs": [
        {
          "output_type": "execute_result",
          "data": {
            "text/plain": [
              "array([[ 1,  2,  3,  4],\n",
              "       [ 5,  6,  7,  8],\n",
              "       [-1, -5, -7, -9],\n",
              "       [ 3, -5, -4, -1]])"
            ]
          },
          "metadata": {},
          "execution_count": 19
        }
      ]
    },
    {
      "cell_type": "markdown",
      "source": [
        "When we use the slicing method, (a:b, c:d), if we define all a,b,c,d then rows are selected from a to (b-1) and columns from c to (d-1). In case we do not define any of a,b,c,d then all that particular elements are included.\n",
        "\n",
        "So here, we define three things;\n",
        "( start : end : steps)"
      ],
      "metadata": {
        "id": "hvlm7adtlft3"
      }
    },
    {
      "cell_type": "code",
      "source": [
        "b[ : , :]"
      ],
      "metadata": {
        "colab": {
          "base_uri": "https://localhost:8080/"
        },
        "id": "07RPwGaalKxp",
        "outputId": "60ed9bbd-a15c-4bd1-cc0f-4ceacd0de39d"
      },
      "execution_count": null,
      "outputs": [
        {
          "output_type": "execute_result",
          "data": {
            "text/plain": [
              "array([[ 1,  2,  3,  4],\n",
              "       [ 5,  6,  7,  8],\n",
              "       [-1, -5, -7, -9],\n",
              "       [ 3, -5, -4, -1]])"
            ]
          },
          "metadata": {},
          "execution_count": 20
        }
      ]
    },
    {
      "cell_type": "code",
      "source": [
        "b[1:4,1:4]"
      ],
      "metadata": {
        "colab": {
          "base_uri": "https://localhost:8080/"
        },
        "id": "bq2_gpnolP6o",
        "outputId": "98efa8d8-4c40-4bb4-ee76-0c252d2397bc"
      },
      "execution_count": null,
      "outputs": [
        {
          "output_type": "execute_result",
          "data": {
            "text/plain": [
              "array([[ 6,  7,  8],\n",
              "       [-5, -7, -9],\n",
              "       [-5, -4, -1]])"
            ]
          },
          "metadata": {},
          "execution_count": 22
        }
      ]
    },
    {
      "cell_type": "code",
      "source": [
        "b[:2, ::2]\n",
        "b"
      ],
      "metadata": {
        "colab": {
          "base_uri": "https://localhost:8080/"
        },
        "id": "ZjotxPcTmT_8",
        "outputId": "38ffed9f-6f85-49f6-a4f6-f089569696c6"
      },
      "execution_count": null,
      "outputs": [
        {
          "output_type": "execute_result",
          "data": {
            "text/plain": [
              "array([[ 1,  2,  3,  4],\n",
              "       [ 5,  6,  7,  8],\n",
              "       [-1, -5, -7, -9],\n",
              "       [ 3, -5, -4, -1]])"
            ]
          },
          "metadata": {},
          "execution_count": 27
        }
      ]
    },
    {
      "cell_type": "markdown",
      "source": [
        "Operations on array"
      ],
      "metadata": {
        "id": "HgEjNRlDoI7O"
      }
    },
    {
      "cell_type": "code",
      "source": [
        "#Adding some number to each element of an array\n",
        "print(b+1)"
      ],
      "metadata": {
        "colab": {
          "base_uri": "https://localhost:8080/"
        },
        "id": "MNr1hsHinQdv",
        "outputId": "d4fe3e8d-6d0f-4ae0-baae-ab79c35aa752"
      },
      "execution_count": null,
      "outputs": [
        {
          "output_type": "stream",
          "name": "stdout",
          "text": [
            "[[ 2  3  4  5]\n",
            " [ 6  7  8  9]\n",
            " [ 0 -4 -6 -8]\n",
            " [ 4 -4 -3  0]]\n"
          ]
        }
      ]
    },
    {
      "cell_type": "code",
      "source": [
        "#Subtracting some number from each element of an array\n",
        "print(b-2)"
      ],
      "metadata": {
        "colab": {
          "base_uri": "https://localhost:8080/"
        },
        "id": "9q76SLGVoHRl",
        "outputId": "44c05601-0383-4882-da08-8d5055f62b43"
      },
      "execution_count": null,
      "outputs": [
        {
          "output_type": "stream",
          "name": "stdout",
          "text": [
            "[[ -1   0   1   2]\n",
            " [  3   4   5   6]\n",
            " [ -3  -7  -9 -11]\n",
            " [  1  -7  -6  -3]]\n"
          ]
        }
      ]
    },
    {
      "cell_type": "code",
      "source": [
        "#sum of all array elements\n",
        "a.sum()"
      ],
      "metadata": {
        "colab": {
          "base_uri": "https://localhost:8080/"
        },
        "id": "kEKjs0ZwpeA3",
        "outputId": "51002775-c82a-4551-f393-a3eb99188cb6"
      },
      "execution_count": null,
      "outputs": [
        {
          "output_type": "execute_result",
          "data": {
            "text/plain": [
              "45"
            ]
          },
          "metadata": {},
          "execution_count": 30
        }
      ]
    },
    {
      "cell_type": "code",
      "source": [
        "#Adding two different arrays\n",
        "a = ([[1,2,3],[4,5,6]])\n",
        "b = ([[-1,-2,-3],[-4,-5,-6]])\n",
        "a+b"
      ],
      "metadata": {
        "colab": {
          "base_uri": "https://localhost:8080/"
        },
        "id": "3t7ncFgWpnLq",
        "outputId": "7dba2d32-3f41-42a9-f186-3bfef6ed9fd6"
      },
      "execution_count": null,
      "outputs": [
        {
          "output_type": "execute_result",
          "data": {
            "text/plain": [
              "[[1, 2, 3], [4, 5, 6], [-1, -2, -3], [-4, -5, -6]]"
            ]
          },
          "metadata": {},
          "execution_count": 61
        }
      ]
    },
    {
      "cell_type": "code",
      "source": [
        "type(a)"
      ],
      "metadata": {
        "colab": {
          "base_uri": "https://localhost:8080/"
        },
        "id": "Tk9WL7sjrMFs",
        "outputId": "79ef35f9-94d8-4426-c6ef-d13fbd84409a"
      },
      "execution_count": null,
      "outputs": [
        {
          "output_type": "execute_result",
          "data": {
            "text/plain": [
              "list"
            ]
          },
          "metadata": {},
          "execution_count": 36
        }
      ]
    },
    {
      "cell_type": "code",
      "source": [
        "arr = np.array( [[1, 2, 3],\n",
        "                 [4, 5, 6]])\n",
        "\n",
        "print(type(arr))"
      ],
      "metadata": {
        "colab": {
          "base_uri": "https://localhost:8080/"
        },
        "id": "Rw18tM1SsGQy",
        "outputId": "bc8e711e-4948-41f3-d9eb-b193f2c36b5e"
      },
      "execution_count": null,
      "outputs": [
        {
          "output_type": "stream",
          "name": "stdout",
          "text": [
            "<class 'numpy.ndarray'>\n"
          ]
        }
      ]
    },
    {
      "cell_type": "code",
      "source": [
        "print(arr.ndim) #prints dimension of an array\n",
        "print(arr.shape) #shape of array\n",
        "print(arr.size) #number of elements in an array\n",
        "print(arr.dtype) #type of elements in an array"
      ],
      "metadata": {
        "colab": {
          "base_uri": "https://localhost:8080/"
        },
        "id": "v0B0T0Pvs_Lh",
        "outputId": "6b2e5d25-9c86-4cf2-d71c-435d12383b83"
      },
      "execution_count": null,
      "outputs": [
        {
          "output_type": "stream",
          "name": "stdout",
          "text": [
            "2\n",
            "(2, 3)\n",
            "6\n",
            "int64\n"
          ]
        }
      ]
    },
    {
      "cell_type": "code",
      "source": [
        "#Array initialized with all zeros and size 3*4 = 12\n",
        "c = np.zeros((3,4))\n",
        "print(c)"
      ],
      "metadata": {
        "colab": {
          "base_uri": "https://localhost:8080/"
        },
        "id": "LGS4MYQbt3DI",
        "outputId": "de94414f-e7d2-4e76-fcff-38936fc67308"
      },
      "execution_count": null,
      "outputs": [
        {
          "output_type": "stream",
          "name": "stdout",
          "text": [
            "[[0. 0. 0. 0.]\n",
            " [0. 0. 0. 0.]\n",
            " [0. 0. 0. 0.]]\n"
          ]
        }
      ]
    },
    {
      "cell_type": "code",
      "source": [
        "#An array having type complex and all elements being constant\n",
        "d = np.full((3,3), 6, dtype = 'complex')\n",
        "d"
      ],
      "metadata": {
        "colab": {
          "base_uri": "https://localhost:8080/"
        },
        "id": "C8QRcUMbwzHx",
        "outputId": "d4d05cbc-b341-4c9b-9c1c-a9d09076fb15"
      },
      "execution_count": null,
      "outputs": [
        {
          "output_type": "execute_result",
          "data": {
            "text/plain": [
              "array([[6.+0.j, 6.+0.j, 6.+0.j],\n",
              "       [6.+0.j, 6.+0.j, 6.+0.j],\n",
              "       [6.+0.j, 6.+0.j, 6.+0.j]])"
            ]
          },
          "metadata": {},
          "execution_count": 46
        }
      ]
    },
    {
      "cell_type": "code",
      "source": [
        "#A random array\n",
        "e = np.random.random((2, 2))\n",
        "e"
      ],
      "metadata": {
        "colab": {
          "base_uri": "https://localhost:8080/"
        },
        "id": "-RY73dckxLqX",
        "outputId": "e1c2e03e-48ec-41ce-a22e-37bffdf04057"
      },
      "execution_count": null,
      "outputs": [
        {
          "output_type": "execute_result",
          "data": {
            "text/plain": [
              "array([[0.41721847, 0.67113707],\n",
              "       [0.80732619, 0.6011678 ]])"
            ]
          },
          "metadata": {},
          "execution_count": 47
        }
      ]
    },
    {
      "cell_type": "code",
      "source": [
        "#A sequential array\n",
        "#arange(start, end, steps)\n",
        "\n",
        "f = np.arange(0, 30, 2)\n",
        "f"
      ],
      "metadata": {
        "colab": {
          "base_uri": "https://localhost:8080/"
        },
        "id": "xKf6XcVZxoii",
        "outputId": "704668e2-ed2c-4f93-cb45-c6c828740ed0"
      },
      "execution_count": null,
      "outputs": [
        {
          "output_type": "execute_result",
          "data": {
            "text/plain": [
              "array([ 0,  2,  4,  6,  8, 10, 12, 14, 16, 18, 20, 22, 24, 26, 28])"
            ]
          },
          "metadata": {},
          "execution_count": 53
        }
      ]
    },
    {
      "cell_type": "code",
      "source": [
        "#an array with 10 values between 0 and 5\n",
        "#linspace( start, end, elements)\n",
        "g = np.linspace(0, 5, 10)\n",
        "g"
      ],
      "metadata": {
        "colab": {
          "base_uri": "https://localhost:8080/"
        },
        "id": "cvM9eA6uyiqY",
        "outputId": "17f87e82-0ddd-43d3-e0ed-80c30ad57ad5"
      },
      "execution_count": null,
      "outputs": [
        {
          "output_type": "execute_result",
          "data": {
            "text/plain": [
              "array([0.        , 0.55555556, 1.11111111, 1.66666667, 2.22222222,\n",
              "       2.77777778, 3.33333333, 3.88888889, 4.44444444, 5.        ])"
            ]
          },
          "metadata": {},
          "execution_count": 54
        }
      ]
    },
    {
      "cell_type": "code",
      "source": [
        "arr = np.array([[1,2,3,4],\n",
        "                [-3,4,-5,6],\n",
        "                [1,0,8,9]])\n",
        "arr.reshape(2,2,3)"
      ],
      "metadata": {
        "colab": {
          "base_uri": "https://localhost:8080/"
        },
        "id": "LbBtPmdvy2rb",
        "outputId": "2f078d56-aa17-47ad-c476-dbefbcbe1450"
      },
      "execution_count": null,
      "outputs": [
        {
          "output_type": "execute_result",
          "data": {
            "text/plain": [
              "array([[[ 1,  2,  3],\n",
              "        [ 4, -3,  4]],\n",
              "\n",
              "       [[-5,  6,  1],\n",
              "        [ 0,  8,  9]]])"
            ]
          },
          "metadata": {},
          "execution_count": 55
        }
      ]
    },
    {
      "cell_type": "code",
      "source": [
        "arr.flatten() #flat the array"
      ],
      "metadata": {
        "colab": {
          "base_uri": "https://localhost:8080/"
        },
        "id": "1PKKRhh_zrDj",
        "outputId": "49e615b6-7c57-4ccd-91d5-cbaa03c35f10"
      },
      "execution_count": null,
      "outputs": [
        {
          "output_type": "execute_result",
          "data": {
            "text/plain": [
              "array([ 1,  2,  3,  4, -3,  4, -5,  6,  1,  0,  8,  9])"
            ]
          },
          "metadata": {},
          "execution_count": 56
        }
      ]
    },
    {
      "cell_type": "code",
      "source": [
        "x = np.array([1, 2])\n",
        "x.dtype"
      ],
      "metadata": {
        "colab": {
          "base_uri": "https://localhost:8080/"
        },
        "id": "EJ99mI-Dz2st",
        "outputId": "cd5864c9-95b4-4282-8cf3-a816b7cfef76"
      },
      "execution_count": null,
      "outputs": [
        {
          "output_type": "execute_result",
          "data": {
            "text/plain": [
              "dtype('int64')"
            ]
          },
          "metadata": {},
          "execution_count": 57
        }
      ]
    },
    {
      "cell_type": "code",
      "source": [
        "x = np.array([1.0, 2.0])\n",
        "x.dtype"
      ],
      "metadata": {
        "colab": {
          "base_uri": "https://localhost:8080/"
        },
        "id": "7IYSxBix1Zeh",
        "outputId": "5e089b8c-c59a-4b05-a3b2-ff814c52b920"
      },
      "execution_count": null,
      "outputs": [
        {
          "output_type": "execute_result",
          "data": {
            "text/plain": [
              "dtype('float64')"
            ]
          },
          "metadata": {},
          "execution_count": 58
        }
      ]
    },
    {
      "cell_type": "code",
      "source": [
        "x = np.array([1.0,2.0] , dtype = np.int64)\n",
        "x.dtype"
      ],
      "metadata": {
        "colab": {
          "base_uri": "https://localhost:8080/"
        },
        "id": "IRd9MLQp1lL8",
        "outputId": "3f9d2442-739c-4d9d-cabe-1ea8ad514352"
      },
      "execution_count": null,
      "outputs": [
        {
          "output_type": "execute_result",
          "data": {
            "text/plain": [
              "dtype('int64')"
            ]
          },
          "metadata": {},
          "execution_count": 60
        }
      ]
    }
  ]
}